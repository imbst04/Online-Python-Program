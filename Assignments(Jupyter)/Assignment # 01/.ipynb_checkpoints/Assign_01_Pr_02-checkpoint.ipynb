{
 "cells": [
  {
   "cell_type": "code",
   "execution_count": 2,
   "id": "a0e22ee3",
   "metadata": {},
   "outputs": [
    {
     "name": "stdout",
     "output_type": "stream",
     "text": [
      "\n",
      "*****************===================================*****************\n",
      "\t\t\t Assignment # 2\n",
      "*****************===================================*****************\n",
      " Write a Python program to get the Python version you are using\n",
      "**********************************************************************\n",
      "\n",
      "Current Version of Python:\n",
      "3.9.7 (default, Sep 16 2021, 16:59:28) [MSC v.1916 64 bit (AMD64)]\n",
      "sys.version_info(major=3, minor=9, micro=7, releaselevel='final', serial=0)\n",
      "\n",
      "\n",
      "**********************************************************************\n",
      "Anoth way to check Python Version\n",
      "3.9.7\n",
      "\n",
      "********************************************************************** \n",
      "\t\tMuhammad Arif (imbst04@gmail.com)\n",
      "**********************************************************************\n"
     ]
    }
   ],
   "source": [
    "'''\n",
    "Author:     Muhammad Arif Arain\n",
    "email:      imbst04@gmail.com\n",
    "'''\n",
    "import sys\n",
    "import platform\n",
    "\n",
    "# Variables declaration\n",
    "assignment = \"Assignment # 2\";\n",
    "chStar, chEqual,chMultiple = \"*\", \"=\", 70;\n",
    "authorName,authorEmail = \"Muhammad Arif\", \"imbst04@gmail.com\";\n",
    "strSeprator = chStar*int(chMultiple/4) + chEqual*int(chMultiple/2) + chStar*int(chMultiple/4);\n",
    "strFooter = f\"\\n{chStar*chMultiple} \\n\\t\\t{authorName} ({authorEmail})\\n{chStar*chMultiple}\"\n",
    "strAssign = \"Write a Python program to get the Python version you are using\";\n",
    "\n",
    "\n",
    "# Print the Assignment number as header\n",
    "print(f\"\\n{strSeprator}\");\n",
    "print(\"\\t\\t\\t\",assignment);\n",
    "print(f\"{strSeprator}\\n {strAssign}\\n{chStar*chMultiple}\\n\");\n",
    "\n",
    "# Print the current version of the python I am using...\n",
    "print(\"Current Version of Python:\");\n",
    "print(sys.version);\n",
    "# Print the virsion info\n",
    "print(sys.version_info);\n",
    "\n",
    "# Another way to check python version\n",
    "print(f\"\\n\\n{chStar*70}\\nAnoth way to check Python Version\");\n",
    "print(platform.python_version());\n",
    "\n",
    "# Print the Author name as Footer\n",
    "print(strFooter);"
   ]
  },
  {
   "cell_type": "code",
   "execution_count": null,
   "id": "9cf2fd95",
   "metadata": {},
   "outputs": [],
   "source": []
  }
 ],
 "metadata": {
  "kernelspec": {
   "display_name": "Python 3 (ipykernel)",
   "language": "python",
   "name": "python3"
  },
  "language_info": {
   "codemirror_mode": {
    "name": "ipython",
    "version": 3
   },
   "file_extension": ".py",
   "mimetype": "text/x-python",
   "name": "python",
   "nbconvert_exporter": "python",
   "pygments_lexer": "ipython3",
   "version": "3.9.7"
  }
 },
 "nbformat": 4,
 "nbformat_minor": 5
}
