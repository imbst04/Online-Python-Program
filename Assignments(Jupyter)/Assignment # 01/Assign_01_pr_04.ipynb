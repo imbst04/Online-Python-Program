{
 "cells": [
  {
   "cell_type": "code",
   "execution_count": 1,
   "id": "22ea956f",
   "metadata": {},
   "outputs": [
    {
     "name": "stdout",
     "output_type": "stream",
     "text": [
      "\n",
      "*****************===================================*****************\n",
      "\t\t\t Assignment # 4\n",
      "*****************===================================*****************\n",
      " Write a Python program which accepts the Radius of a Circle from the user and compute the Area\n",
      "**********************************************************************\n",
      "\n",
      "Enter the Radius of a Circle: 45\n",
      "Area of a Circle is:  6361.73\n",
      "\n",
      "********************************************************************** \n",
      "\t\tMuhammad Arif (imbst04@gmail.com)\n",
      "**********************************************************************\n"
     ]
    }
   ],
   "source": [
    "'''\n",
    "Author:     Muhammad Arif Arain\n",
    "email:      imbst04@gmail.com\n",
    "'''\n",
    "# Variables declaration\n",
    "assignment = \"Assignment # 4\";\n",
    "chStar, chEqual,chMultiple = \"*\", \"=\", 70;\n",
    "authorName,authorEmail = \"Muhammad Arif\", \"imbst04@gmail.com\";\n",
    "strSeprator = chStar*int(chMultiple/4) + chEqual*int(chMultiple/2) + chStar*int(chMultiple/4);\n",
    "strFooter = f\"\\n{chStar*chMultiple} \\n\\t\\t{authorName} ({authorEmail})\\n{chStar*chMultiple}\"\n",
    "strAssign = \"Write a Python program which accepts the Radius of a Circle from the user and compute the Area\"\n",
    "\n",
    "\n",
    "# Print the Assignment number as header\n",
    "print(f\"\\n{strSeprator}\");\n",
    "print(\"\\t\\t\\t\",assignment);\n",
    "print(f\"{strSeprator}\\n {strAssign}\\n{chStar*chMultiple}\\n\");\n",
    "\n",
    "# Receiving Radius as input from user\n",
    "PI = 3.1415926535897932384626433832795;\n",
    "\n",
    "# Getting the input from the user (The radius of a circle)\n",
    "cRadius = float(input(\"Enter the Radius of a Circle: \"))\n",
    "\n",
    "# Calculating the area of a circle\n",
    "cArea = PI * cRadius**2;\n",
    "\n",
    "# Printing the output after calculating the area\n",
    "print(\"Area of a Circle is:  %.2f\" %cArea);\n",
    "\n",
    "\n",
    "# Print the Author name as Footer\n",
    "print(strFooter);"
   ]
  },
  {
   "cell_type": "code",
   "execution_count": null,
   "id": "418ae44a",
   "metadata": {},
   "outputs": [],
   "source": []
  }
 ],
 "metadata": {
  "kernelspec": {
   "display_name": "Python 3 (ipykernel)",
   "language": "python",
   "name": "python3"
  },
  "language_info": {
   "codemirror_mode": {
    "name": "ipython",
    "version": 3
   },
   "file_extension": ".py",
   "mimetype": "text/x-python",
   "name": "python",
   "nbconvert_exporter": "python",
   "pygments_lexer": "ipython3",
   "version": "3.9.7"
  }
 },
 "nbformat": 4,
 "nbformat_minor": 5
}
