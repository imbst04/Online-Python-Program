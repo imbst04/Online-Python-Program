{
 "cells": [
  {
   "cell_type": "code",
   "execution_count": 1,
   "id": "1bb505fb",
   "metadata": {},
   "outputs": [
    {
     "name": "stdout",
     "output_type": "stream",
     "text": [
      "\n",
      "*****************===================================*****************\n",
      "\t\t\t Assignment # 6\n",
      "*****************===================================*****************\n",
      "Write a Python program which takes two inputs from user and prints them addition\n",
      "**********************************************************************\n",
      "\n",
      "Addition of two numbers:\n",
      "Enter first Number: 4\n",
      "Enter second Number: 5\n",
      "\n",
      "Addition of two given numbers is:  9\n",
      "\n",
      "\n",
      "********************************************************************** \n",
      "\t\tMuhammad Arif (imbst04@gmail.com)\n",
      "**********************************************************************\n"
     ]
    }
   ],
   "source": [
    "'''\n",
    "Author:     Muhammad Arif Arain\n",
    "email:      imbst04@gmail.com\n",
    "'''\n",
    "# Variables declaration\n",
    "assignment = \"Assignment # 6\";\n",
    "chStar, chEqual,chMultiple = \"*\", \"=\", 70;\n",
    "authorName,authorEmail = \"Muhammad Arif\", \"imbst04@gmail.com\";\n",
    "strSeprator = chStar*int(chMultiple/4) + chEqual*int(chMultiple/2) + chStar*int(chMultiple/4);\n",
    "strFooter = f\"\\n\\n{chStar*chMultiple} \\n\\t\\t{authorName} ({authorEmail})\\n{chStar*chMultiple}\";\n",
    "strAssign = '''Write a Python program which takes two inputs from user and prints them addition''';\n",
    "\n",
    "\n",
    "\n",
    "# Print the Assignment number as header\n",
    "print(f\"\\n{strSeprator}\");\n",
    "print(\"\\t\\t\\t\",assignment);\n",
    "print(f\"{strSeprator}\\n{strAssign}\\n{chStar*chMultiple}\\n\");\n",
    "\n",
    "# Getting input from user and generating output as adition of two integers\n",
    "print(\"Addition of two numbers:\")\n",
    "try:\n",
    "    n1 = int(input(\"Enter first Number: \"))\n",
    "    n2 = int(input(\"Enter second Number: \"))\n",
    "\n",
    "    print(\"\\nAddition of two given numbers is: \", n1 + n2)\n",
    "except Exception:\n",
    "    print(\"Invalid Input!\")\n",
    "\n",
    "print(strFooter);"
   ]
  },
  {
   "cell_type": "code",
   "execution_count": null,
   "id": "c30553b2",
   "metadata": {},
   "outputs": [],
   "source": []
  }
 ],
 "metadata": {
  "kernelspec": {
   "display_name": "Python 3 (ipykernel)",
   "language": "python",
   "name": "python3"
  },
  "language_info": {
   "codemirror_mode": {
    "name": "ipython",
    "version": 3
   },
   "file_extension": ".py",
   "mimetype": "text/x-python",
   "name": "python",
   "nbconvert_exporter": "python",
   "pygments_lexer": "ipython3",
   "version": "3.9.7"
  }
 },
 "nbformat": 4,
 "nbformat_minor": 5
}
