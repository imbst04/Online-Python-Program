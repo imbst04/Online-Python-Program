{
 "cells": [
  {
   "cell_type": "code",
   "execution_count": 1,
   "id": "b7b364db",
   "metadata": {},
   "outputs": [
    {
     "name": "stdout",
     "output_type": "stream",
     "text": [
      "\n",
      "*****************===================================*****************\n",
      "\t\t\t Assignment # 5\n",
      "*****************===================================*****************\n",
      "Write a Python program which accepts the user's first and last name \n",
      "and print them in reverse order with a space between them\n",
      "**********************************************************************\n",
      "\n",
      "Enter your first name: Muhammad\n",
      "Enter your last name: Arif\n",
      "\n",
      "Output:\n",
      "\n",
      "d a m m a h u M f i r A \n",
      "\n",
      "********************************************************************** \n",
      "\t\tMuhammad Arif (imbst04@gmail.com)\n",
      "**********************************************************************\n"
     ]
    }
   ],
   "source": [
    "'''\n",
    "Author:     Muhammad Arif Arain\n",
    "email:      imbst04@gmail.com\n",
    "'''\n",
    "# Variables declaration\n",
    "assignment = \"Assignment # 5\";\n",
    "chStar, chEqual,chMultiple = \"*\", \"=\", 70;\n",
    "authorName,authorEmail = \"Muhammad Arif\", \"imbst04@gmail.com\";\n",
    "strSeprator = chStar*int(chMultiple/4) + chEqual*int(chMultiple/2) + chStar*int(chMultiple/4);\n",
    "strFooter = f\"\\n\\n{chStar*chMultiple} \\n\\t\\t{authorName} ({authorEmail})\\n{chStar*chMultiple}\";\n",
    "strAssign = '''Write a Python program which accepts the user's first and last name \n",
    "and print them in reverse order with a space between them''';\n",
    "\n",
    "\n",
    "\n",
    "# Print the Assignment number as header\n",
    "print(f\"\\n{strSeprator}\");\n",
    "print(\"\\t\\t\\t\",assignment);\n",
    "print(f\"{strSeprator}\\n{strAssign}\\n{chStar*chMultiple}\\n\");\n",
    "\n",
    "# method to print string in reverse\n",
    "def StringInReverse(str):\n",
    "    l = len(str);\n",
    "    for i in range(l):\n",
    "        print(str[l-i-1], end=\" \");\n",
    "\n",
    "\n",
    "# Get input from the user \n",
    "fName = input(\"Enter your first name: \");\n",
    "lName = input(\"Enter your last name: \");\n",
    "\n",
    "# Call the function with parameter\n",
    "print(\"\\nOutput:\\n\");\n",
    "StringInReverse(fName);\n",
    "StringInReverse(lName);\n",
    "\n",
    "\n",
    "\n",
    "print(strFooter);"
   ]
  },
  {
   "cell_type": "code",
   "execution_count": null,
   "id": "918298c9",
   "metadata": {},
   "outputs": [],
   "source": []
  }
 ],
 "metadata": {
  "kernelspec": {
   "display_name": "Python 3 (ipykernel)",
   "language": "python",
   "name": "python3"
  },
  "language_info": {
   "codemirror_mode": {
    "name": "ipython",
    "version": 3
   },
   "file_extension": ".py",
   "mimetype": "text/x-python",
   "name": "python",
   "nbconvert_exporter": "python",
   "pygments_lexer": "ipython3",
   "version": "3.9.7"
  }
 },
 "nbformat": 4,
 "nbformat_minor": 5
}
