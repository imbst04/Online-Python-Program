{
 "cells": [
  {
   "cell_type": "code",
   "execution_count": 1,
   "id": "5d8fe736",
   "metadata": {},
   "outputs": [
    {
     "name": "stdout",
     "output_type": "stream",
     "text": [
      "\tTwinkle, twinkle, little star,\n",
      "\t\tHow I wonder what you are!\n",
      "\t\t\tUp above the world so high,\n",
      "\t\t\tLike a diamond in the sky.\n",
      "\tTwinkle, twinkle, little star,\n",
      "\t\tHow I wonder what you are!\n"
     ]
    }
   ],
   "source": [
    "print(\"\\tTwinkle, twinkle, little star,\\n\\t\\tHow I wonder what you are!\\n\\t\\t\\tUp above the world so high,\\n\\t\\t\\tLike a diamond in the sky.\\n\\tTwinkle, twinkle, little star,\\n\\t\\tHow I wonder what you are!\")"
   ]
  },
  {
   "cell_type": "code",
   "execution_count": 2,
   "id": "5c2810e9",
   "metadata": {},
   "outputs": [
    {
     "name": "stdout",
     "output_type": "stream",
     "text": [
      "\n",
      "*****************===================================*****************\n",
      "\t\t\t Assignment # 1\n",
      "*****************===================================*****************\n",
      "Write a Python program to print the following string in a specific format (See the output).\n",
      "\tTwinkle, twinkle, little star,\n",
      "\t\tHow I wonder what you are!\n",
      "\t\t\tUp above the world so high,\n",
      "\t\t\tLike a diamond in the sky.\n",
      "\tTwinkle, twinkle, little star,\n",
      "\t\tHow I wonder what you are!\n",
      "\n",
      "**********************************************************************\n",
      "\n",
      "\n",
      "\n",
      " Output:\n",
      "\n",
      "\tTwinkle, twinkle, little star,\n",
      "\t\tHow I wonder what you are!\n",
      "\t\t\tUp above the world so high,\n",
      "\t\t\tLike a diamond in the sky.\n",
      "\tTwinkle, twinkle, little star,\n",
      "\t\tHow I wonder what you are!\n",
      "\n",
      "\n",
      "********************************************************************** \n",
      "\t\tMuhammad Arif (imbst04@gmail.com)\n",
      "**********************************************************************\n"
     ]
    }
   ],
   "source": [
    "'''\n",
    "Author:     Muhammad Arif Arain\n",
    "email:      imbst04@gmail.com\n",
    "'''\n",
    "# Variables declaration\n",
    "assignment = \"Assignment # 1\";\n",
    "chStar, chEqual,chMultiple = \"*\", \"=\", 70;\n",
    "authorName,authorEmail = \"Muhammad Arif\", \"imbst04@gmail.com\";\n",
    "strSeprator = chStar*int(chMultiple/4) + chEqual*int(chMultiple/2) + chStar*int(chMultiple/4);\n",
    "strFooter = f\"\\n\\n{chStar*chMultiple} \\n\\t\\t{authorName} ({authorEmail})\\n{chStar*chMultiple}\";\n",
    "strAssign = '''Write a Python program to print the following string in a specific format (See the output).\n",
    "\tTwinkle, twinkle, little star,\n",
    "\t\tHow I wonder what you are!\n",
    "\t\t\tUp above the world so high,\n",
    "\t\t\tLike a diamond in the sky.\n",
    "\tTwinkle, twinkle, little star,\n",
    "\t\tHow I wonder what you are!\n",
    "''';\n",
    "\n",
    "# Print the Assignment number as header\n",
    "print(f\"\\n{strSeprator}\");\n",
    "print(\"\\t\\t\\t\",assignment);\n",
    "print(f\"{strSeprator}\\n{strAssign}\\n{chStar*chMultiple}\\n\");\n",
    "\n",
    "# Format of a string\n",
    "print(\"\\n\\n Output:\\n\")\n",
    "print(\"\\tTwinkle, twinkle, little star,\\n\\t\\tHow I wonder what you are!\\n\\t\\t\\tUp above the world so high,\\n\\t\\t\\tLike a diamond in the sky.\\n\\tTwinkle, twinkle, little star,\\n\\t\\tHow I wonder what you are!\")\n",
    "\n",
    "print(strFooter)"
   ]
  },
  {
   "cell_type": "code",
   "execution_count": null,
   "id": "0987f61f",
   "metadata": {},
   "outputs": [],
   "source": []
  }
 ],
 "metadata": {
  "kernelspec": {
   "display_name": "Python 3 (ipykernel)",
   "language": "python",
   "name": "python3"
  },
  "language_info": {
   "codemirror_mode": {
    "name": "ipython",
    "version": 3
   },
   "file_extension": ".py",
   "mimetype": "text/x-python",
   "name": "python",
   "nbconvert_exporter": "python",
   "pygments_lexer": "ipython3",
   "version": "3.9.7"
  }
 },
 "nbformat": 4,
 "nbformat_minor": 5
}
