{
 "cells": [
  {
   "cell_type": "code",
   "execution_count": 2,
   "id": "2d5ed6c5",
   "metadata": {},
   "outputs": [
    {
     "name": "stdout",
     "output_type": "stream",
     "text": [
      "\n",
      "*****************===================================*****************\n",
      "\t\t\t Assignment # 3\n",
      "*****************===================================*****************\n",
      " Write a Python program to display the current date and time\n",
      "**********************************************************************\n",
      "\n",
      "The current Date and Time of your system is:\n",
      "2021-12-29 13:56:26.242591\n",
      "\n",
      "********************************************************************** \n",
      "\t\tMuhammad Arif (imbst04@gmail.com)\n",
      "**********************************************************************\n"
     ]
    }
   ],
   "source": [
    "'''\n",
    "Author:     Muhammad Arif Arain\n",
    "email:      imbst04@gmail.com\n",
    "'''\n",
    "from datetime import datetime\n",
    "\n",
    "# Variables declaration\n",
    "assignment = \"Assignment # 3\";\n",
    "chStar, chEqual,chMultiple = \"*\", \"=\", 70;\n",
    "authorName,authorEmail = \"Muhammad Arif\", \"imbst04@gmail.com\";\n",
    "strSeprator = chStar*int(chMultiple/4) + chEqual*int(chMultiple/2) + chStar*int(chMultiple/4);\n",
    "strFooter = f\"\\n{chStar*chMultiple} \\n\\t\\t{authorName} ({authorEmail})\\n{chStar*chMultiple}\"\n",
    "strAssign = \"Write a Python program to display the current date and time\";\n",
    "\n",
    "\n",
    "# Print the Assignment number as header\n",
    "print(f\"\\n{strSeprator}\");\n",
    "print(\"\\t\\t\\t\",assignment);\n",
    "print(f\"{strSeprator}\\n {strAssign}\\n{chStar*chMultiple}\\n\");\n",
    "\n",
    "print(f\"The current Date and Time of your system is:\\n{datetime.today()}\");\n",
    "\n",
    "# Print the Author name as Footer\n",
    "print(strFooter);"
   ]
  },
  {
   "cell_type": "code",
   "execution_count": null,
   "id": "a8507450",
   "metadata": {},
   "outputs": [],
   "source": []
  }
 ],
 "metadata": {
  "kernelspec": {
   "display_name": "Python 3 (ipykernel)",
   "language": "python",
   "name": "python3"
  },
  "language_info": {
   "codemirror_mode": {
    "name": "ipython",
    "version": 3
   },
   "file_extension": ".py",
   "mimetype": "text/x-python",
   "name": "python",
   "nbconvert_exporter": "python",
   "pygments_lexer": "ipython3",
   "version": "3.9.7"
  }
 },
 "nbformat": 4,
 "nbformat_minor": 5
}
